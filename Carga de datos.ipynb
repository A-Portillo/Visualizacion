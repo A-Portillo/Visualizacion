{
 "cells": [
  {
   "cell_type": "code",
   "execution_count": 1,
   "id": "cad1ec2f",
   "metadata": {},
   "outputs": [],
   "source": [
    "import pandas as pd\n",
    "import re\n",
    "from pathlib import Path\n",
    "import numpy as np"
   ]
  },
  {
   "cell_type": "code",
   "execution_count": 2,
   "id": "eab731d1",
   "metadata": {},
   "outputs": [],
   "source": [
    "def canonical_family(name: str) -> str:\n",
    "    \"\"\"\n",
    "    Devuelve la 'familia' canónica del modelo a partir del ModelName completo.\n",
    "    Unifica variantes como LightGBMLarge/LightGBMXT → 'LightGBM',\n",
    "    RandomForestGini/Entr → 'RandomForest', ExtraTrees* → 'ExtraTrees', etc.\n",
    "    \"\"\"\n",
    "    s = str(name)\n",
    "    s = re.sub(r'([_-])?(r|v)\\d+$', '', s, flags=re.IGNORECASE)\n",
    "    n = re.sub(r'[^a-z0-9]', '', s.lower())\n",
    "\n",
    "    if 'catboost' in n:\n",
    "        return 'CatBoost'\n",
    "    if 'xgboost' in n or n.startswith('xgb'):\n",
    "        return 'XGBoost'\n",
    "    if 'lightgbm' in n or 'lgbm' in n:\n",
    "        return 'LightGBM'\n",
    "    if 'randomforest' in n or n.startswith('rf'):\n",
    "        return 'RandomForest'\n",
    "    if 'extratrees' in n or 'extratree' in n or n.startswith('et'):\n",
    "        return 'ExtraTrees'\n",
    "    if 'kneighbors' in n or n.startswith('knn') or 'knearest' in n:\n",
    "        return 'KNeighbors'\n",
    "    if 'logistic' in n or n == 'lr':\n",
    "        return 'LogisticRegression'\n",
    "    if 'svm' in n or 'svc' in n:\n",
    "        return 'SVM'\n",
    "    if 'decisiontree' in n or n == 'dt':\n",
    "        return 'DecisionTree'\n",
    "    m = re.match(r'[a-zA-Z]+', s)\n",
    "    return m.group(0) if m else s"
   ]
  },
  {
   "cell_type": "markdown",
   "id": "c863edf3",
   "metadata": {},
   "source": [
    "# Carga de datos"
   ]
  },
  {
   "cell_type": "markdown",
   "id": "c82ad3e5",
   "metadata": {},
   "source": [
    "## Cargar datos fuera de las carpetas "
   ]
  },
  {
   "cell_type": "code",
   "execution_count": 3,
   "id": "23452a69",
   "metadata": {},
   "outputs": [],
   "source": [
    "# Ruta base donde están los datos extraídos\n",
    "BASE = Path(\"./dataset\")\n",
    "\n",
    "def find_variant_dirs(base: Path):\n",
    "    cands = {}\n",
    "    for p in base.rglob(\"*\"):\n",
    "        if p.is_dir() and p.name in (\"ML_nV8\", \"ML_nV19\"):\n",
    "            cands[p.name] = p\n",
    "    return cands\n",
    "\n",
    "variant_dirs = find_variant_dirs(BASE)\n",
    "\n",
    "re_cfg = re.compile(\n",
    "    r\"ID_2C_NvsSD_nR(?P<nR>\\d+)_nV(?P<nV>\\d+)_nF(?P<nF>\\d+)(?:_Seed_?(?P<seed>\\d+))?\",\n",
    "    re.I\n",
    ")\n",
    "\n",
    "def parse_meta_from_name(name: str):\n",
    "    m = re_cfg.search(name)\n",
    "    meta = {\"nR\": None, \"nV\": None, \"nF\": None, \"seed\": None}\n",
    "    if m:\n",
    "        meta.update({k: (int(v) if v is not None else None) for k, v in m.groupdict().items()})\n",
    "    return meta\n",
    "\n",
    "def load_aggregated(variant_path: Path):\n",
    "    def load_files(pattern):\n",
    "        dfs = []\n",
    "        for fp in variant_path.glob(pattern):\n",
    "            df = pd.read_csv(fp)\n",
    "            meta = parse_meta_from_name(fp.name)\n",
    "            for k, v in meta.items():\n",
    "                if k not in df.columns:  \n",
    "                    df[k] = v\n",
    "            dfs.append(df)\n",
    "        return pd.concat(dfs, ignore_index=True) if dfs else pd.DataFrame()\n",
    "    \n",
    "    metrics = load_files(\"Metrics_CV_*.csv\")\n",
    "    preds   = load_files(\"TestPredCV_*.csv\")\n",
    "    fi      = load_files(\"FeatureImportance_ID_*.csv\")\n",
    "    return metrics, preds, fi\n",
    "\n",
    "variant_data = {}\n",
    "for vname, vpath in variant_dirs.items():\n",
    "    variant_data[vname] = load_aggregated(vpath)\n"
   ]
  },
  {
   "cell_type": "code",
   "execution_count": 4,
   "id": "1604e8a2",
   "metadata": {},
   "outputs": [],
   "source": [
    "metrics_v8, preds_v8, fi_v8 = variant_data.get(\"ML_nV8\", (pd.DataFrame(), pd.DataFrame(), pd.DataFrame()))\n",
    "metrics_v19, preds_v19, fi_v19 = variant_data.get(\"ML_nV19\", (pd.DataFrame(), pd.DataFrame(), pd.DataFrame()))"
   ]
  },
  {
   "cell_type": "code",
   "execution_count": 5,
   "id": "3d0e7f84",
   "metadata": {},
   "outputs": [],
   "source": [
    "def collapse_preds(preds_df):\n",
    "    id_col = 'etiq-id'\n",
    "    label_col = 'ED_2Clases'\n",
    "    meta_cols = [c for c in ['nR', 'nV', 'nF'] if c in preds_df.columns]\n",
    "\n",
    "    proba_cols = [c for c in preds_df.columns if c.startswith('testPredProba')]\n",
    "    long_parts = []\n",
    "\n",
    "    for proba_col in proba_cols:\n",
    "        _, seed_str, model_name = proba_col.split('_', 2)\n",
    "        seed = int(seed_str[1:])  # quitar la 'S'\n",
    "\n",
    "        fold_col = f\"testNumFold_S{seed}_{model_name}\"\n",
    "        if fold_col in preds_df.columns:\n",
    "            fold_data = preds_df[fold_col]\n",
    "        else:\n",
    "            fold_data = np.nan\n",
    "\n",
    "        cols_to_take = [id_col, label_col, proba_col]\n",
    "        part = preds_df[cols_to_take].copy()\n",
    "        part.columns = ['etiq_id', 'ED_2Clases', 'proba']\n",
    "        part['fold'] = fold_data\n",
    "        part['seed'] = seed\n",
    "        part['model'] = model_name\n",
    "\n",
    "        for mc in meta_cols:\n",
    "            part[mc] = preds_df[mc]\n",
    "\n",
    "        long_parts.append(part)\n",
    "\n",
    "    preds_long = pd.concat(long_parts, ignore_index=True)\n",
    "    return preds_long"
   ]
  },
  {
   "cell_type": "code",
   "execution_count": 6,
   "id": "4bf909c7",
   "metadata": {},
   "outputs": [],
   "source": [
    "\n",
    "preds_v8_long = collapse_preds(preds_v8)\n",
    "preds_v19_long = collapse_preds(preds_v19)"
   ]
  },
  {
   "cell_type": "code",
   "execution_count": 7,
   "id": "9ea5a81f",
   "metadata": {},
   "outputs": [],
   "source": [
    "metrics = pd.concat([metrics_v8, metrics_v19], ignore_index=True)\n",
    "metrics['ModelFamily'] = metrics['ModelName'].apply(canonical_family)\n",
    "metrics.to_parquet(\"metrics.parquet\", index=False)\n",
    "\n",
    "label_col = 'ED_2Clases'\n",
    "preds = pd.concat([preds_v8_long, preds_v19_long], ignore_index=True)\n",
    "preds.to_parquet(\"preds.parquet\", index=False)\n",
    "\n",
    "fi = pd.concat([fi_v8, fi_v19], ignore_index=True)\n",
    "fi['ModelFamily'] = fi['model'].apply(canonical_family)\n",
    "fi.to_parquet(\"fi.parquet\", index=False)"
   ]
  },
  {
   "cell_type": "markdown",
   "id": "208d7803",
   "metadata": {},
   "source": [
    "## Cargar leaderboards dentro de las carpetas"
   ]
  },
  {
   "cell_type": "code",
   "execution_count": 8,
   "id": "d6b8d190",
   "metadata": {},
   "outputs": [],
   "source": [
    "BASE = Path(\"./dataset\")                \n",
    "\n",
    "pat = re.compile(\n",
    "    r\"ID_2C_NvsSD_\"\n",
    "    r\"nR(?P<nR>\\d+)_nV(?P<nV>\\d+)_nF(?P<nF>\\d+)\"\n",
    "    r\"_Seed_?(?P<seed>\\d+)\"\n",
    "    r\"(?:_Fold_?(?P<fold>\\d+))?\"\n",
    "    r\"(?:_runID_[A-Za-z0-9]+)?$\",\n",
    "    re.I\n",
    ")\n",
    "\n",
    "frames = []\n",
    "for run_dir in BASE.rglob(\"ID_2C_NvsSD_nR*_nV*_nF*_Seed_*_Fold_*_runID_*\"):\n",
    "    m = pat.match(run_dir.name)\n",
    "    if not m:\n",
    "        continue\n",
    "    meta = {k: (int(v) if v is not None else None) for k, v in m.groupdict().items()}\n",
    "\n",
    "\n",
    "    for fp in run_dir.glob(\"leaderboard*.csv\"):\n",
    "        df = pd.read_csv(fp)\n",
    "        for k in (\"nR\", \"nV\", \"nF\", \"seed\", \"fold\"):\n",
    "            df[k] = meta.get(k)\n",
    "        frames.append(df)\n",
    "\n",
    "if not frames:\n",
    "    raise FileNotFoundError(\"No se encontraron los leaderboard.\")\n",
    "\n"
   ]
  },
  {
   "cell_type": "code",
   "execution_count": 9,
   "id": "8581e76a",
   "metadata": {},
   "outputs": [],
   "source": [
    "lb = pd.concat(frames, ignore_index=True)\n",
    "\n",
    "for c in (\"nR\",\"nV\",\"nF\",\"seed\",\"fold\"):\n",
    "    if c in lb.columns:\n",
    "        lb[c] = lb[c].astype(\"Int64\")\n",
    "\n",
    "lb.to_parquet(\"leaderboards.parquet\", index=False)"
   ]
  }
 ],
 "metadata": {
  "kernelspec": {
   "display_name": "Python 3",
   "language": "python",
   "name": "python3"
  },
  "language_info": {
   "codemirror_mode": {
    "name": "ipython",
    "version": 3
   },
   "file_extension": ".py",
   "mimetype": "text/x-python",
   "name": "python",
   "nbconvert_exporter": "python",
   "pygments_lexer": "ipython3",
   "version": "3.12.3"
  }
 },
 "nbformat": 4,
 "nbformat_minor": 5
}
